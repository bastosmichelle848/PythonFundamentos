{
 "cells": [
  {
   "cell_type": "code",
   "execution_count": 1,
   "id": "778a7ec6",
   "metadata": {},
   "outputs": [
    {
     "name": "stdout",
     "output_type": "stream",
     "text": [
      "Qual nível você gostaria de jogar? 1/2/3/4/5 \n",
      "1\n"
     ]
    }
   ],
   "source": [
    "level = int(input(\"Qual nível você gostaria de jogar? 1/2/3/4/5 \\n\"))"
   ]
  },
  {
   "cell_type": "code",
   "execution_count": 2,
   "id": "79a0b27e",
   "metadata": {},
   "outputs": [],
   "source": [
    "length = 500/level"
   ]
  },
  {
   "cell_type": "code",
   "execution_count": null,
   "id": "e1d31e52",
   "metadata": {},
   "outputs": [],
   "source": []
  }
 ],
 "metadata": {
  "kernelspec": {
   "display_name": "Python 3 (ipykernel)",
   "language": "python",
   "name": "python3"
  },
  "language_info": {
   "codemirror_mode": {
    "name": "ipython",
    "version": 3
   },
   "file_extension": ".py",
   "mimetype": "text/x-python",
   "name": "python",
   "nbconvert_exporter": "python",
   "pygments_lexer": "ipython3",
   "version": "3.9.7"
  }
 },
 "nbformat": 4,
 "nbformat_minor": 5
}
