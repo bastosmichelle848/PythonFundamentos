{
 "cells": [
  {
   "cell_type": "code",
   "execution_count": 1,
   "id": "19af80cd",
   "metadata": {},
   "outputs": [
    {
     "name": "stdout",
     "output_type": "stream",
     "text": [
      "\n",
      " ********Python Calculator*************\n",
      "\n",
      "Selecione o número da operação desejada: \n",
      "\n",
      "1- Soma\n",
      "2- Subtração\n",
      "3- Multiplicação\n",
      "4- Divisão\n",
      "\n",
      "Digite sua opção (1/2/3/4): 1\n",
      "Digite o primeiro número:2\n",
      "Digite o segundo número: 3\n",
      "\n",
      "\n",
      "2 + 3 = 5\n",
      "\n",
      "\n"
     ]
    }
   ],
   "source": [
    "# Print na tela\n",
    "\n",
    "print(\"\\n ********Python Calculator*************\")\n",
    "\n",
    "#Funções\n",
    "\n",
    "def add(x,y):\n",
    "    return x+y\n",
    "\n",
    "def subtract(x,y):\n",
    "    return x-y\n",
    "\n",
    "def multiply(x,y):\n",
    "    return x*y\n",
    "\n",
    "def divide(x,y):\n",
    "    return x/y\n",
    "\n",
    "#Print na tela\n",
    "\n",
    "print(\"\\nSelecione o número da operação desejada: \\n\")\n",
    "print('1- Soma')\n",
    "print('2- Subtração')\n",
    "print('3- Multiplicação')\n",
    "print('4- Divisão')\n",
    "\n",
    "# Definir as variáveis da calculadora\n",
    "\n",
    "escolha=input(\"\\nDigite sua opção (1/2/3/4): \")\n",
    "\n",
    "num1=int(input(\"Digite o primeiro número:\"))\n",
    "num2=int(input(\"Digite o segundo número: \"))\n",
    "\n",
    "if escolha =='1':\n",
    "    print(\"\\n\")\n",
    "    print(num1,\"+\",num2,\"=\",add(num1,num2))\n",
    "    print(\"\\n\")\n",
    "    \n",
    "elif escolha =='2':\n",
    "    print(\"\\n\")\n",
    "    print(num1,\"-\",num2,\"=\",subtract(x,y))\n",
    "\n",
    "elif escolha=='3':\n",
    "    print(\"\\n\")\n",
    "    print(num1,\"x\",num2,\"=\",multiply(x,y))\n",
    "\n",
    "elif escolha =='4':\n",
    "    print(\"\\n\")\n",
    "    print(num1,\"/\",num2,\"=\",divide(x,y))\n",
    "\n",
    "    \n",
    "else:\n",
    "    print(\"\\n Opção Inválida\")\n",
    "\n"
   ]
  },
  {
   "cell_type": "code",
   "execution_count": null,
   "id": "33157233",
   "metadata": {},
   "outputs": [],
   "source": []
  }
 ],
 "metadata": {
  "kernelspec": {
   "display_name": "Python 3 (ipykernel)",
   "language": "python",
   "name": "python3"
  },
  "language_info": {
   "codemirror_mode": {
    "name": "ipython",
    "version": 3
   },
   "file_extension": ".py",
   "mimetype": "text/x-python",
   "name": "python",
   "nbconvert_exporter": "python",
   "pygments_lexer": "ipython3",
   "version": "3.9.7"
  }
 },
 "nbformat": 4,
 "nbformat_minor": 5
}
